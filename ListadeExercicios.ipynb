{
  "nbformat": 4,
  "nbformat_minor": 0,
  "metadata": {
    "colab": {
      "name": "ListadeExercicios.ipynb",
      "provenance": [],
      "authorship_tag": "ABX9TyOIHt1HGxeLpwv6SRQuHnSU",
      "include_colab_link": true
    },
    "kernelspec": {
      "name": "python3",
      "display_name": "Python 3"
    },
    "language_info": {
      "name": "python"
    }
  },
  "cells": [
    {
      "cell_type": "markdown",
      "metadata": {
        "id": "view-in-github",
        "colab_type": "text"
      },
      "source": [
        "<a href=\"https://colab.research.google.com/github/RobertaFreiredeBrito/python-blue/blob/main/ListadeExercicios.ipynb\" target=\"_parent\"><img src=\"https://colab.research.google.com/assets/colab-badge.svg\" alt=\"Open In Colab\"/></a>"
      ]
    },
    {
      "cell_type": "code",
      "metadata": {
        "id": "NFT-9P4TmJhQ"
      },
      "source": [
        "1"
      ],
      "execution_count": null,
      "outputs": []
    },
    {
      "cell_type": "code",
      "metadata": {
        "colab": {
          "base_uri": "https://localhost:8080/"
        },
        "id": "MOJDYzrAmSPh",
        "outputId": "80b7c52e-c60e-462c-e048-66f8c3ae04af"
      },
      "source": [
        "n1 = int(input('Digite um numero'))\n",
        "n2 = int(input('Digite outro numero'))\n",
        "numeros = (n1,n2)\n",
        "div = n1%n2\n",
        "print(numeros)\n",
        "print(f'O menor numero é: {min(numeros)}')\n",
        "print(f'O maior numero é: {max(numeros)}')\n",
        "print(f'A soma dos valores é: {sum(numeros)}')\n",
        "if (div%2) ==0:\n",
        "  print('O resultado da soma é par')\n",
        "else:\n",
        "  print('O resultado da soma é impar')\n",
        "divisãoint = n1 // n2\n",
        "print(f'O resultado da divisão inteira é: {divisãoint}')\n",
        "resto = n1 % n2\n",
        "print(f'O resto é: {resto}')\n",
        "\n"
      ],
      "execution_count": 20,
      "outputs": [
        {
          "output_type": "stream",
          "text": [
            "Digite um numero17\n",
            "Digite outro numero8\n",
            "(17, 8)\n",
            "O menor numero é: 8\n",
            "O maior numero é: 17\n",
            "A soma dos valores é: 25\n",
            "O resultado da soma é impar\n",
            "O resultado da divisão inteira é: 2\n",
            "O resto é: 1\n"
          ],
          "name": "stdout"
        }
      ]
    },
    {
      "cell_type": "markdown",
      "metadata": {
        "id": "Vs--OT39uGZM"
      },
      "source": [
        "2"
      ]
    },
    {
      "cell_type": "code",
      "metadata": {
        "colab": {
          "base_uri": "https://localhost:8080/"
        },
        "id": "RAlOUE-QuHVj",
        "outputId": "d644b28b-5a01-4814-d255-4040aa4ca001"
      },
      "source": [
        "frase = str(input('Digite uma frase: '))\n",
        "vogais = []\n",
        "for vogais in (frase):\n",
        "  print(f'frase tem {vogais} vogais')\n",
        "  \n",
        "\n"
      ],
      "execution_count": 87,
      "outputs": [
        {
          "output_type": "stream",
          "text": [
            "Digite uma frase: oi\n",
            "frase tem o vogais\n",
            "frase tem i vogais\n"
          ],
          "name": "stdout"
        }
      ]
    },
    {
      "cell_type": "markdown",
      "metadata": {
        "id": "ckyn_urgdCVO"
      },
      "source": [
        "3"
      ]
    },
    {
      "cell_type": "code",
      "metadata": {
        "colab": {
          "base_uri": "https://localhost:8080/"
        },
        "id": "5TTgQSk6cw2n",
        "outputId": "958e6f24-54ca-4dfc-8cb7-036dccd8c94d"
      },
      "source": [
        "senha = int(input('Digite a senha'))\n",
        "\n",
        "if senha == 123456:\n",
        "  print('Seja bem vindo! Vamos jogar?')\n",
        "else:\n",
        "  print(input('Senha incorreta, digite novamente: '))\n",
        "import random\n",
        "numero = random. randrange(1,10)\n",
        "sorte = int(input('Acerte o numero da sorte: '))\n",
        "while numero != sorte:\n",
        "  sorte = int(input('Tente novamente'))\n",
        "  if numero == sorte:\n",
        "    print('Você acertou. Parabéns!')\n",
        "\n"
      ],
      "execution_count": 11,
      "outputs": [
        {
          "output_type": "stream",
          "text": [
            "Digite a senha123456\n",
            "Seja bem vindo! Vamos jogar?\n",
            "Acerte o numero da sorte: 1\n",
            "Tente novamente2\n",
            "Tente novamente3\n",
            "Tente novamente4\n",
            "Tente novamente5\n",
            "Tente novamente6\n",
            "Tente novamente7\n",
            "Você acertou. Parabéns!\n"
          ],
          "name": "stdout"
        }
      ]
    },
    {
      "cell_type": "markdown",
      "metadata": {
        "id": "--_zDrzvi5BD"
      },
      "source": [
        "4"
      ]
    },
    {
      "cell_type": "code",
      "metadata": {
        "colab": {
          "base_uri": "https://localhost:8080/",
          "height": 248
        },
        "id": "YlP50v8Ai6Cq",
        "outputId": "e98fac1c-0662-450e-f863-2d60bd969f5e"
      },
      "source": [
        "print('Digite a data de hoje: (dd/mm/aaaa)')\n"
      ],
      "execution_count": 82,
      "outputs": [
        {
          "output_type": "stream",
          "text": [
            "Digite a data de hoje: (dd/mm/aaaa)\n"
          ],
          "name": "stdout"
        },
        {
          "output_type": "error",
          "ename": "TypeError",
          "evalue": "ignored",
          "traceback": [
            "\u001b[0;31m---------------------------------------------------------------------------\u001b[0m",
            "\u001b[0;31mTypeError\u001b[0m                                 Traceback (most recent call last)",
            "\u001b[0;32m<ipython-input-82-d5a78cda3383>\u001b[0m in \u001b[0;36m<module>\u001b[0;34m()\u001b[0m\n\u001b[1;32m      1\u001b[0m \u001b[0mprint\u001b[0m\u001b[0;34m(\u001b[0m\u001b[0;34m'Digite a data de hoje: (dd/mm/aaaa)'\u001b[0m\u001b[0;34m)\u001b[0m\u001b[0;34m\u001b[0m\u001b[0;34m\u001b[0m\u001b[0m\n\u001b[0;32m----> 2\u001b[0;31m \u001b[0mdia\u001b[0m \u001b[0;34m=\u001b[0m \u001b[0mint\u001b[0m\u001b[0;34m(\u001b[0m\u001b[0minput\u001b[0m\u001b[0;34m(\u001b[0m\u001b[0;34m''\u001b[0m\u001b[0;34m,\u001b[0m \u001b[0mend\u001b[0m\u001b[0;34m=\u001b[0m \u001b[0;34m'/'\u001b[0m\u001b[0;34m)\u001b[0m\u001b[0;34m)\u001b[0m\u001b[0;34m\u001b[0m\u001b[0;34m\u001b[0m\u001b[0m\n\u001b[0m\u001b[1;32m      3\u001b[0m \u001b[0mmês\u001b[0m \u001b[0;34m=\u001b[0m \u001b[0mint\u001b[0m\u001b[0;34m(\u001b[0m\u001b[0minput\u001b[0m\u001b[0;34m(\u001b[0m\u001b[0;34m''\u001b[0m\u001b[0;34m,\u001b[0m \u001b[0mend\u001b[0m\u001b[0;34m=\u001b[0m \u001b[0;34m'/'\u001b[0m\u001b[0;34m)\u001b[0m\u001b[0;34m)\u001b[0m\u001b[0;34m\u001b[0m\u001b[0;34m\u001b[0m\u001b[0m\n\u001b[1;32m      4\u001b[0m \u001b[0mano\u001b[0m \u001b[0;34m=\u001b[0m \u001b[0mint\u001b[0m\u001b[0;34m(\u001b[0m\u001b[0minput\u001b[0m\u001b[0;34m(\u001b[0m\u001b[0;34m''\u001b[0m\u001b[0;34m,\u001b[0m \u001b[0mend\u001b[0m\u001b[0;34m=\u001b[0m \u001b[0;34m'/'\u001b[0m\u001b[0;34m)\u001b[0m\u001b[0;34m)\u001b[0m\u001b[0;34m\u001b[0m\u001b[0;34m\u001b[0m\u001b[0m\n\u001b[1;32m      5\u001b[0m \u001b[0mprint\u001b[0m\u001b[0;34m(\u001b[0m\u001b[0;34mf'{dia}//{mês}//{ano}'\u001b[0m\u001b[0;34m)\u001b[0m\u001b[0;34m\u001b[0m\u001b[0;34m\u001b[0m\u001b[0m\n",
            "\u001b[0;31mTypeError\u001b[0m: raw_input() got an unexpected keyword argument 'end'"
          ]
        }
      ]
    },
    {
      "cell_type": "markdown",
      "metadata": {
        "id": "iXEEZvG2jRHz"
      },
      "source": [
        "5"
      ]
    },
    {
      "cell_type": "code",
      "metadata": {
        "colab": {
          "base_uri": "https://localhost:8080/"
        },
        "id": "6kmLpTsZjSdU",
        "outputId": "f9129997-cc44-496b-e599-7fb6ffbb6baf"
      },
      "source": [
        "frase = str(input('Digite uma frase: '))\n",
        "print(frase[::-1])\n",
        "print(f'Foram utilizadas {len(frase)} letras da frase original')\n"
      ],
      "execution_count": 44,
      "outputs": [
        {
          "output_type": "stream",
          "text": [
            "Digite uma frase: oi\n",
            "io\n",
            "Foram utilizadas 2 letras da frase original\n"
          ],
          "name": "stdout"
        }
      ]
    },
    {
      "cell_type": "markdown",
      "metadata": {
        "id": "9xel7NkujS5r"
      },
      "source": [
        "6"
      ]
    },
    {
      "cell_type": "code",
      "metadata": {
        "colab": {
          "base_uri": "https://localhost:8080/"
        },
        "id": "HmCsDc9UjTny",
        "outputId": "14f769f3-17a6-4024-f357-97a1bcf83949"
      },
      "source": [
        "soma = 0\n",
        "\n",
        "print('Responda SIM ou NÃO')\n",
        "a = str(input('Telefonou para a vitima?')).lower()\n",
        "if a == 'sim':\n",
        "  soma += 1\n",
        "a = str(input('Esteve no local do crime?')).lower()\n",
        "if a == 'sim':\n",
        "  soma += 1\n",
        "a = str(input('Mora perto da vitima?')).lower()\n",
        "if a == 'sim':\n",
        "  soma += 1\n",
        "a = str(input('Devia para a vitima?')).lower()\n",
        "if a == 'sim':\n",
        "  soma += 1\n",
        "a = str(input('Já trabalhou com a vitima?')).lower()\n",
        "if a == 'sim':\n",
        "  soma += 1\n",
        "if soma == 0 or soma <2:\n",
        "  print('Inocente')\n",
        "if soma == 2:\n",
        "  print('Suspeito')\n",
        "if soma == 3 or soma ==4:\n",
        "  print('Cúmplice')\n",
        "if soma == 5:\n",
        "  print('Cupado')"
      ],
      "execution_count": 15,
      "outputs": [
        {
          "output_type": "stream",
          "text": [
            "Responda SIM ou NÃO\n",
            "Telefonou para a vitima?sim\n",
            "Esteve no local do crime?sim\n",
            "Mora perto da vitima?sim\n",
            "Devia para a vitima?sim\n",
            "Já trabalhou com a vitima?sim\n",
            "Cupado\n"
          ],
          "name": "stdout"
        }
      ]
    },
    {
      "cell_type": "markdown",
      "metadata": {
        "id": "X6EML43D-ju5"
      },
      "source": [
        "7"
      ]
    },
    {
      "cell_type": "code",
      "metadata": {
        "colab": {
          "base_uri": "https://localhost:8080/"
        },
        "id": "SFAs3DMk-kkB",
        "outputId": "71b35a6b-b146-4e3e-ebd0-a4e6b2b9bf3e"
      },
      "source": [
        "pares =[]\n",
        "impares = []\n",
        "numeros = [pares, impares]\n",
        "for x in range(7):\n",
        "  num = int(input('Digite um numero: '))\n",
        "  if num % 2 == 0:\n",
        "    pares.append(num)\n",
        "  else:\n",
        "    impares.append(num)\n",
        "numeros.sort()\n",
        "print(f'Números pares {pares}')\n",
        "print(f'Números impares {impares}')\n"
      ],
      "execution_count": 80,
      "outputs": [
        {
          "output_type": "stream",
          "text": [
            "Digite um numero: 1\n",
            "Digite um numero: 2\n",
            "Digite um numero: 3\n",
            "Digite um numero: 4\n",
            "Digite um numero: 5\n",
            "Digite um numero: 6\n",
            "Digite um numero: 7\n",
            "Números pares [2, 4, 6]\n",
            "Números impares [1, 3, 5, 7]\n"
          ],
          "name": "stdout"
        }
      ]
    },
    {
      "cell_type": "markdown",
      "metadata": {
        "id": "2spTOtesJV4E"
      },
      "source": [
        "8"
      ]
    },
    {
      "cell_type": "code",
      "metadata": {
        "id": "ZdEK_fFqJWqR"
      },
      "source": [
        "pessoas = list()\n",
        "idade = list()\n",
        "idadeacima = list()\n",
        "mulheres = list()\n",
        "fim = 0\n",
        "while fim == 0:\n",
        "  cadastro = dict()\n",
        "  nome = input('Digite seu nome: ').upper()\n",
        "  idade = int(input('Digite sua idade'))\n",
        "  sexo = (input('Digite a letra F ou M: '))\n",
        "  if sexo == 'F':\n",
        "    print('Sexo biológico feminino')\n",
        "  else:\n",
        "    print('Sexo biológico masculino')\n",
        "cadastro['nome'] = nome\n"
      ],
      "execution_count": null,
      "outputs": []
    }
  ]
}