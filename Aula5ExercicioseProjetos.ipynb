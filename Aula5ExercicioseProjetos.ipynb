{
  "nbformat": 4,
  "nbformat_minor": 0,
  "metadata": {
    "colab": {
      "name": "Aula5ExercicioseProjetos.ipynb",
      "provenance": [],
      "authorship_tag": "ABX9TyO04/e56yGRBzwHm6W4BtVc",
      "include_colab_link": true
    },
    "kernelspec": {
      "name": "python3",
      "display_name": "Python 3"
    },
    "language_info": {
      "name": "python"
    }
  },
  "cells": [
    {
      "cell_type": "markdown",
      "metadata": {
        "id": "view-in-github",
        "colab_type": "text"
      },
      "source": [
        "<a href=\"https://colab.research.google.com/github/RobertaFreiredeBrito/python-blue/blob/main/Aula5ExercicioseProjetos.ipynb\" target=\"_parent\"><img src=\"https://colab.research.google.com/assets/colab-badge.svg\" alt=\"Open In Colab\"/></a>"
      ]
    },
    {
      "cell_type": "code",
      "metadata": {
        "id": "PLDYN5Nw9EzM"
      },
      "source": [
        ""
      ],
      "execution_count": null,
      "outputs": []
    },
    {
      "cell_type": "markdown",
      "metadata": {
        "id": "_6w0A5Wp9JrL"
      },
      "source": [
        "Faça um programa que pergunte ao usuario um numero e valide se o numero é par ou impar\n"
      ]
    },
    {
      "cell_type": "markdown",
      "metadata": {
        "id": "EftYUjdR9fhw"
      },
      "source": [
        "Para um numero ser par a divisão dele por 2 tem que dar resto 0"
      ]
    },
    {
      "cell_type": "code",
      "metadata": {
        "colab": {
          "base_uri": "https://localhost:8080/"
        },
        "id": "SqhBIG2C9p5x",
        "outputId": "d5a84b4d-494d-44e1-fc84-0b9f671f0f1e"
      },
      "source": [
        "valor = float(input('digite um numero'))\n",
        "\n",
        "resto = valor % 2\n",
        "\n",
        "if resto == 0:\n",
        "  print('O número é par')\n",
        "else:\n",
        "  print('O número é impar')\n",
        "\n",
        "print(int(valor))\n",
        "\n",
        "\n",
        "\n"
      ],
      "execution_count": null,
      "outputs": [
        {
          "output_type": "stream",
          "text": [
            "digite um numero2\n",
            "O número é par\n",
            "2\n"
          ],
          "name": "stdout"
        }
      ]
    },
    {
      "cell_type": "markdown",
      "metadata": {
        "id": "9MJgJAmK-YbI"
      },
      "source": [
        "Faça um script que peça um valor na tela se o valor é positivo ou negativo.\n",
        "\n",
        "Parte 2\n",
        "Agora implemente a funcionalidade de não aceitar o número 0 no input"
      ]
    },
    {
      "cell_type": "code",
      "metadata": {
        "colab": {
          "base_uri": "https://localhost:8080/"
        },
        "id": "i1qNw1QQAAeA",
        "outputId": "1da6d2d2-aab0-4b7e-db2d-d366bb95f47f"
      },
      "source": [
        "#Resposta 1\n",
        "\n",
        "valor = float(input('Digite um valor'))\n",
        "\n",
        "if valor >0:\n",
        "  print('O número é positivo')\n",
        "else:\n",
        "  print('O número é negativo')\n"
      ],
      "execution_count": null,
      "outputs": [
        {
          "output_type": "stream",
          "text": [
            "Digite um valor0\n",
            "O número é negativo\n"
          ],
          "name": "stdout"
        }
      ]
    },
    {
      "cell_type": "code",
      "metadata": {
        "id": "1L-FqEzVArrh"
      },
      "source": [
        ""
      ],
      "execution_count": null,
      "outputs": []
    },
    {
      "cell_type": "code",
      "metadata": {
        "colab": {
          "base_uri": "https://localhost:8080/"
        },
        "id": "yPA1UiJDBI8-",
        "outputId": "9999d0ae-89ab-42ff-d0dd-751317bd91e5"
      },
      "source": [
        "#Resposta 2\n",
        "\n",
        "valor = int(input('Digite um valor '))\n",
        "\n",
        "if valor == 0:\n",
        "  print('Número invalido')\n",
        "else:\n",
        "  if valor > 0:\n",
        "    print('Número positivo')\n",
        "  else:\n",
        "    print('Número negativo')\n"
      ],
      "execution_count": null,
      "outputs": [
        {
          "output_type": "stream",
          "text": [
            "Digite um valor 0\n",
            "Número invalido\n"
          ],
          "name": "stdout"
        }
      ]
    },
    {
      "cell_type": "markdown",
      "metadata": {
        "id": "ZZ8oJGStFZqT"
      },
      "source": [
        "Faça um programa que peça dois números, imprima o maior deles ou imprima \"numeros iguais\" se os números forem iguais."
      ]
    },
    {
      "cell_type": "code",
      "metadata": {
        "colab": {
          "base_uri": "https://localhost:8080/"
        },
        "id": "Xg_wQ11RFujx",
        "outputId": "2c62baf4-2cc9-491a-f2ec-ec174dcbc145"
      },
      "source": [
        "n1 = int(input('Digite um numero '))\n",
        "\n",
        "n2 = int(input('Digite outro numero '))\n",
        "\n",
        "if n1 == n2:\n",
        "  print(n1,n2)\n",
        "else:\n",
        "  if n1 > n2:\n",
        "    print(n1)\n",
        "  else:\n",
        "    if n1 < n2:\n",
        "      print(n2)\n",
        "  "
      ],
      "execution_count": null,
      "outputs": [
        {
          "output_type": "stream",
          "text": [
            "Digite um numero1\n",
            "Digite outro numero2\n",
            "2\n"
          ],
          "name": "stdout"
        }
      ]
    },
    {
      "cell_type": "markdown",
      "metadata": {
        "id": "Iij3lV2yFy2K"
      },
      "source": [
        "Crie um programa que verifique se a letra digitada é F ou M. Conforme a letra escrever: F - Feminino, M - Masculino, caso escreva outra letra: sexo inválido."
      ]
    },
    {
      "cell_type": "code",
      "metadata": {
        "id": "4ftsAY_vMRaT"
      },
      "source": [
        ""
      ],
      "execution_count": null,
      "outputs": []
    },
    {
      "cell_type": "code",
      "metadata": {
        "colab": {
          "base_uri": "https://localhost:8080/"
        },
        "id": "ffQ4xFOyMgyq",
        "outputId": "0a8b7aee-c984-471a-93da-5e6e937eec84"
      },
      "source": [
        "letra = input('Digite M ou F ').upper()\n",
        "\n",
        "if letra == 'M' or letra == 'm':\n",
        "  print('Masculino')\n",
        "else:\n",
        "  if letra == 'F':\n",
        "    print('Feminino')\n",
        "  else:\n",
        "    print('Sexo inválido')\n",
        "  "
      ],
      "execution_count": null,
      "outputs": [
        {
          "output_type": "stream",
          "text": [
            "Digite M ou F m\n",
            "Masculino\n"
          ],
          "name": "stdout"
        }
      ]
    },
    {
      "cell_type": "markdown",
      "metadata": {
        "id": "iNt0jNLSQkm0"
      },
      "source": [
        "Crie um programa em python que peça a nota do aluno, que deve ser um float entre 0.00 e 10.0\n",
        "\n",
        "Se a nota for menor que 6.0, deve exibir F.\n",
        "Se a nota for de 6.0 á 7.0, deve exibir a nota D\n",
        "Se a nota for entre 7.0 e 8.0, deve ser C\n",
        "Se a nota for entre 8.0 e 9.0, deve ser B\n"
      ]
    },
    {
      "cell_type": "code",
      "metadata": {
        "colab": {
          "base_uri": "https://localhost:8080/"
        },
        "id": "H_KSBpHRRpIX",
        "outputId": "7d84ef36-96be-4fea-ec68-fb7220057952"
      },
      "source": [
        "nota = float(input('Digite a nota'))\n",
        "\n",
        "if nota < 6:\n",
        "  print('O aluno tirou F')\n",
        "elif nota >=6 and nota <7:\n",
        "  print('O aluno tirou D')\n",
        "elif nota >=7 and nota <8:\n",
        "  print('O aluno tirou C')\n",
        "elif nota >=8 and nota <9:\n",
        "  print('O aluno tirou B')\n",
        "else:\n",
        "  print('O aluno tirou A')"
      ],
      "execution_count": null,
      "outputs": [
        {
          "output_type": "stream",
          "text": [
            "Digite a nota7\n",
            "O aluno tirou C\n"
          ],
          "name": "stdout"
        }
      ]
    },
    {
      "cell_type": "markdown",
      "metadata": {
        "id": "x5gzKVn4dd_M"
      },
      "source": [
        "Projeto 1"
      ]
    },
    {
      "cell_type": "code",
      "metadata": {
        "colab": {
          "base_uri": "https://localhost:8080/"
        },
        "id": "opZv897SfDrr",
        "outputId": "626e2172-6b9d-4e48-b825-63848aa12b48"
      },
      "source": [
        "palavra = input('Digite medieval ou futurista: ')\n",
        "\n",
        "if palavra == 'medieval':\n",
        "  print('espada')\n",
        "elif palavra == 'futurista':\n",
        "  print('sabre de luz')\n",
        "else:\n",
        "  print('tente novamente')"
      ],
      "execution_count": 63,
      "outputs": [
        {
          "output_type": "stream",
          "text": [
            "Digite medieval ou futurista: medieval\n",
            "espada\n"
          ],
          "name": "stdout"
        }
      ]
    },
    {
      "cell_type": "markdown",
      "metadata": {
        "id": "_hCFswnwg2a5"
      },
      "source": [
        "Projeto 2"
      ]
    },
    {
      "cell_type": "code",
      "metadata": {
        "colab": {
          "base_uri": "https://localhost:8080/"
        },
        "id": "0ItJMWKphA0V",
        "outputId": "a5dddcdd-d3f5-4fed-cd02-6213757b8a9e"
      },
      "source": [
        "ataque = input('Digite espada ou sabre de luz: ')\n",
        "\n",
        "if ataque == 'espada':\n",
        "  print('Você ainda não derrotou o chefão')\n",
        "elif ataque == 'sabre de luz':\n",
        "  print('você derrotou o chefão')\n",
        "else:\n",
        "  print('tente novamente')"
      ],
      "execution_count": 68,
      "outputs": [
        {
          "output_type": "stream",
          "text": [
            "Digite espada ou sabre de luz: espada\n",
            "Você ainda não derrotou o chefão\n"
          ],
          "name": "stdout"
        }
      ]
    },
    {
      "cell_type": "markdown",
      "metadata": {
        "id": "5pgQfh7Qi9ki"
      },
      "source": [
        "Projeto 3"
      ]
    },
    {
      "cell_type": "code",
      "metadata": {
        "colab": {
          "base_uri": "https://localhost:8080/"
        },
        "id": "dwx1t7pBi_zC",
        "outputId": "b9e0d1ec-a458-4df0-9527-1d27ac7c06e8"
      },
      "source": [
        "salario = float(input('Digite o salário do funcionário: '))\n",
        "porc = 20\n",
        "porc2 = 5\n",
        "aum = salario * porc/100\n",
        "aum2 = salario * porc2/100\n",
        "\n",
        "if salario <280:\n",
        "  print(aum)\n",
        "if salario <700:\n",
        "  print(aum)\n",
        "if salario <1500:\n",
        "  print(aum)\n",
        "else:\n",
        "  print(aum2)"
      ],
      "execution_count": 83,
      "outputs": [
        {
          "output_type": "stream",
          "text": [
            "Digite o salário do funcionário: 1800\n",
            "90.0\n"
          ],
          "name": "stdout"
        }
      ]
    },
    {
      "cell_type": "markdown",
      "metadata": {
        "id": "y00ciPmSofbU"
      },
      "source": [
        "Projeto 4"
      ]
    },
    {
      "cell_type": "code",
      "metadata": {
        "colab": {
          "base_uri": "https://localhost:8080/"
        },
        "id": "zamUYmh_oheT",
        "outputId": "1da31daf-a91e-41e4-f73c-60f6818dc372"
      },
      "source": [
        "saque = float(input('Digite o valor do saque, minimo R$10 e maximo R$600: '))\n",
        "\n",
        "if saque <10 or saque >600:\n",
        "  print('Saque invalido, tente valores entre 10 e 600: ')\n",
        "elif saque >=10 or saque >=600:\n",
        "  print('Saque realizado com sucesso!')"
      ],
      "execution_count": 93,
      "outputs": [
        {
          "output_type": "stream",
          "text": [
            "Digite o valor do saque, minimo R$10 e maximo R$600: 500\n",
            "Saque realizado com sucesso!\n"
          ],
          "name": "stdout"
        }
      ]
    }
  ]
}